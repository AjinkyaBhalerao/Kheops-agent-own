{
 "cells": [
  {
   "cell_type": "code",
   "execution_count": 16,
   "metadata": {},
   "outputs": [],
   "source": [
    "import pandas as pd\n",
    "import json\n",
    "import re"
   ]
  },
  {
   "cell_type": "code",
   "execution_count": 17,
   "metadata": {},
   "outputs": [],
   "source": [
    "def extract_info(text):\n",
    "    pattern = r\"\\[(?!(Variable))(\\w+.*?)\\]\"\n",
    "    matches = re.findall(pattern, str(text))\n",
    "    \n",
    "    result = {}\n",
    "    for match in matches:\n",
    "        parts = match[1].split(':')\n",
    "        if len(parts) == 2:\n",
    "            result[parts[0].strip()] = parts[1].strip().strip(\"'\")\n",
    "    \n",
    "    return result"
   ]
  },
  {
   "cell_type": "code",
   "execution_count": 18,
   "metadata": {},
   "outputs": [],
   "source": [
    "def replace_pattern(json_string):\n",
    "    pattern = r\"\\[(?!(Variable))(\\w+.*?)\\]\"\n",
    "    \n",
    "    # Find all matches in the JSON string\n",
    "    matches = re.findall(pattern, json_string)\n",
    "    \n",
    "    # Iterate through matches and replace in JSON string\n",
    "    for match in matches:\n",
    "        key = match[1].split(':')[0].strip()\n",
    "        json_string = json_string.replace(f'[{match[1]}]', f'{{{key}}}')\n",
    "    \n",
    "    return json_string"
   ]
  },
  {
   "cell_type": "code",
   "execution_count": 33,
   "metadata": {},
   "outputs": [],
   "source": [
    "df = pd.read_excel('docs\\Prompts-doc_1.xlsx')\n",
    "df2 = pd.read_excel('docs\\Prompts-doc_2.xlsx')\n",
    "\n",
    "excel_df = df.fillna('')\n",
    "excel_df2 = df2.fillna('')\n",
    "\n",
    "prompt_system = \"You are kheops, a superintelligent artificial intelligence developed by Kheops AI team, and your purpose and drive is to assist the user with any request they have.\"\n",
    "\n",
    "l = []\n",
    "for i, title in enumerate(excel_df[\"Titres\"]):\n",
    "    m = {}\n",
    "    inputs = extract_info(excel_df[\"Prompts\"][i])\n",
    "    prompt_user = ''\n",
    "\n",
    "    if excel_df['Prompts'][i] != '':\n",
    "        prompt_user = excel_df['Prompts'][i]\n",
    "\n",
    "    excel_df['Prompts'][i] = replace_pattern(excel_df['Prompts'][i])\n",
    "    \n",
    "    m[title] = {'prompt_system' : prompt_system, 'prompt_user' : excel_df[\"Prompts\"][i], 'inputs' : inputs}\n",
    "    l.append(m)\n",
    "\n",
    "for i, title in enumerate(excel_df2[\"Titres\"]):\n",
    "    m = {}\n",
    "    inputs = extract_info(excel_df2[\"Prompts\"][i])\n",
    "    prompt_user = ''\n",
    "\n",
    "    if excel_df2['Prompts'][i] != '':\n",
    "        prompt_user = excel_df2['Prompts'][i]\n",
    "\n",
    "    excel_df2['Prompts'][i] = replace_pattern(excel_df2['Prompts'][i])\n",
    "    \n",
    "    m[title] = {'prompt_system' : prompt_system, 'prompt_user' : excel_df2[\"Prompts\"][i], 'inputs' : inputs}\n",
    "    l.append(m)\n",
    "\n",
    "merged_map = {}\n",
    "\n",
    "for item in l:\n",
    "    for key, value in item.items():\n",
    "        if key in merged_map:\n",
    "            merged_map[key].append(value)\n",
    "        else:\n",
    "            merged_map[key] = [value]\n"
   ]
  },
  {
   "cell_type": "code",
   "execution_count": 34,
   "metadata": {},
   "outputs": [],
   "source": [
    "with open('formatted_data_merged.json', 'w', encoding='utf-8') as file:\n",
    "    json.dump(merged_map, file, indent=2, ensure_ascii=False)"
   ]
  },
  {
   "cell_type": "code",
   "execution_count": null,
   "metadata": {},
   "outputs": [],
   "source": []
  }
 ],
 "metadata": {
  "kernelspec": {
   "display_name": "Python 3",
   "language": "python",
   "name": "python3"
  },
  "language_info": {
   "codemirror_mode": {
    "name": "ipython",
    "version": 3
   },
   "file_extension": ".py",
   "mimetype": "text/x-python",
   "name": "python",
   "nbconvert_exporter": "python",
   "pygments_lexer": "ipython3",
   "version": "3.9.13"
  }
 },
 "nbformat": 4,
 "nbformat_minor": 2
}
