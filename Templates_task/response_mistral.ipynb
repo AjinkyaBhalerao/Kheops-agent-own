{
 "cells": [
  {
   "cell_type": "code",
   "execution_count": 5,
   "metadata": {},
   "outputs": [],
   "source": [
    "import json\n",
    "from deep_translator import GoogleTranslator"
   ]
  },
  {
   "cell_type": "code",
   "execution_count": 2,
   "metadata": {},
   "outputs": [],
   "source": [
    "def translate_text(text, source_lang='fr', target_lang='en'):\n",
    "    return GoogleTranslator(source=source_lang, target=target_lang).translate(text)\n",
    "\n",
    "def translate_json_content(data, source_lang='fr', target_lang='en'):\n",
    "    translated_data = {}\n",
    "    for key, value in data.items():\n",
    "        if isinstance(value, str):\n",
    "            translated_data[key] = translate_text(value, source_lang, target_lang)\n",
    "        elif isinstance(value, dict):\n",
    "            translated_data[key] = translate_json_content(value, source_lang, target_lang)\n",
    "        elif isinstance(value, list):\n",
    "            translated_data[key] = [translate_json_content(item, source_lang, target_lang) if isinstance(item, dict) else translate_text(item, source_lang, target_lang) for item in value]\n",
    "        else:\n",
    "            translated_data[key] = value\n",
    "    return translated_data"
   ]
  },
  {
   "cell_type": "code",
   "execution_count": 4,
   "metadata": {},
   "outputs": [],
   "source": [
    "with open(\"formatted_data_merged.json\", \"r\", encoding=\"utf-8\") as f:\n",
    "    data = json.load(f)\n",
    "\n",
    "# Translate the JSON content\n",
    "translated_data = translate_json_content(data, target_lang='en')\n",
    "\n",
    "# Save the translated JSON to a new file\n",
    "with open(\"output_english.json\", \"w\", encoding=\"utf-8\") as f:\n",
    "    json.dump(translated_data, f, ensure_ascii=False, indent=2)\n"
   ]
  }
 ],
 "metadata": {
  "kernelspec": {
   "display_name": "Python 3",
   "language": "python",
   "name": "python3"
  },
  "language_info": {
   "codemirror_mode": {
    "name": "ipython",
    "version": 3
   },
   "file_extension": ".py",
   "mimetype": "text/x-python",
   "name": "python",
   "nbconvert_exporter": "python",
   "pygments_lexer": "ipython3",
   "version": "3.9.13"
  }
 },
 "nbformat": 4,
 "nbformat_minor": 2
}
