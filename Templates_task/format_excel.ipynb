{
 "cells": [
  {
   "cell_type": "code",
   "execution_count": 1,
   "metadata": {},
   "outputs": [],
   "source": [
    "import pandas as pd\n",
    "import json\n",
    "import re"
   ]
  },
  {
   "cell_type": "code",
   "execution_count": 25,
   "metadata": {},
   "outputs": [],
   "source": [
    "sample = 'En tant que responsable du contenu pour [Nom de l\\'Entreprise/Projet: \\'LegalEdge\\'], vous avez récemment lancé une nouvelle fonctionnalité ou un nouveau produit. Vous devez créer des titres accrocheurs pour un article de blog qui annonce cette nouveauté. Pour générer des titres pertinents, prenez en compte les variables suivantes fournies par l\\'utilisateur : \\nNom de la Fonctionnalité/du Produit : [\\'LawAdvisor\\'] Description de la Fonctionnalité/du Produit : [\\'Service en ligne de consultation juridique rapide et accessible\\'] Objectif Principal de la Fonctionnalité/du Produit : [\\'Offrir des conseils juridiques fiables et accessibles\\'] Public Cible : [\\'Particuliers et petites entreprises nécessitant des conseils juridiques\\']'\n",
    "def extract_info(text):\n",
    "    \n",
    "    pattern1 = r\"(\\w+.*)\\s:\\s\\[(.*?)\\]\"\n",
    "    pattern2 = r\"\\[(?!(Variable))(\\w+.*?)\\]\"\n",
    "    matches2 = re.findall( pattern2, str(text) )\n",
    "    matches1 = re.findall(pattern1, str(text))\n",
    "\n",
    "    result = {}\n",
    "    for match in matches1:\n",
    "        #parts = match[1].split(':')\n",
    "        if len(match) == 2:\n",
    "            result[match[0].strip()] = match[1].strip().strip(\"'\")\n",
    "\n",
    "    for match in matches2:\n",
    "        parts = match[1].split(':')\n",
    "        if len(parts) == 2:\n",
    "            result[parts[0].strip()] = parts[1].strip().strip(\"'\")    \n",
    "    return result\n",
    "\n",
    "#extract_info(sample)"
   ]
  },
  {
   "cell_type": "code",
   "execution_count": 26,
   "metadata": {},
   "outputs": [],
   "source": [
    "def replace_pattern(json_string):\n",
    "    pattern1 = r\"(\\w+.*?)\\s:\\s\\[(.*?)\\]\"\n",
    "    pattern2 = r\"\\[(?!(Variable))(\\w+.*?)\\]\"\n",
    "    # Find all matches in the JSON string\n",
    "    matches1 = re.findall(pattern1, json_string)\n",
    "    matches2 = re.findall(pattern2, json_string)\n",
    "    # Iterate through matches and replace in JSON string\n",
    "    for match in matches1:\n",
    "        key = match[1].split(':')[0].strip()\n",
    "        json_string = json_string.replace(f'[{match[1]}]', f'{{{key}}}')\n",
    "    \n",
    "    for match in matches2:\n",
    "        key = match[1].split(':')[0].strip()\n",
    "        json_string = json_string.replace(f'[{match[1]}]', f'{{{key}}}')\n",
    "    \n",
    "    return json_string"
   ]
  },
  {
   "cell_type": "code",
   "execution_count": 27,
   "metadata": {},
   "outputs": [],
   "source": [
    "df = pd.read_excel('Prompts-doc_1.xlsx')\n",
    "df2 = pd.read_excel('Prompts-doc_2.xlsx')\n",
    "\n",
    "excel_df = df.fillna('')\n",
    "excel_df2 = df2.fillna('')\n",
    "\n",
    "prompt_system = \"You are kheops, a superintelligent artificial intelligence developed by Kheops AI team, and your purpose and drive is to assist the user with any request they have.\"\n",
    "\n",
    "l = []\n",
    "for i, title in enumerate(excel_df[\"Titres\"]):\n",
    "    m = {}\n",
    "    inputs = extract_info(excel_df[\"Prompts\"][i])\n",
    "    prompt_user = ''\n",
    "\n",
    "    if excel_df['Prompts'][i] != '':\n",
    "        prompt_user = excel_df['Prompts'][i]\n",
    "\n",
    "    excel_df['Prompts'][i] = replace_pattern(excel_df['Prompts'][i])\n",
    "    \n",
    "    m[title] = {'prompt_system' : prompt_system, 'prompt_user' : excel_df[\"Prompts\"][i], 'inputs' : inputs}\n",
    "    l.append(m)\n",
    "\n",
    "for i, title in enumerate(excel_df2[\"Titres\"]):\n",
    "    m = {}\n",
    "    inputs = extract_info(excel_df2[\"Prompts\"][i])\n",
    "    prompt_user = ''\n",
    "\n",
    "    if excel_df2['Prompts'][i] != '':\n",
    "        prompt_user = excel_df2['Prompts'][i]\n",
    "\n",
    "    excel_df2['Prompts'][i] = replace_pattern(excel_df2['Prompts'][i])\n",
    "    \n",
    "    m[title] = {'prompt_system' : prompt_system, 'prompt_user' : excel_df2[\"Prompts\"][i], 'inputs' : inputs}\n",
    "    l.append(m)\n",
    "\n",
    "merged_map = {}\n",
    "\n",
    "for item in l:\n",
    "    for key, value in item.items():\n",
    "        if key in merged_map:\n",
    "            merged_map[key].append(value)\n",
    "        else:\n",
    "            merged_map[key] = [value]\n"
   ]
  },
  {
   "cell_type": "code",
   "execution_count": 28,
   "metadata": {},
   "outputs": [],
   "source": [
    "with open('formatted_data_merged.json', 'w', encoding='utf-8') as file:\n",
    "    json.dump(merged_map, file, indent=2, ensure_ascii=False)"
   ]
  },
  {
   "cell_type": "code",
   "execution_count": null,
   "metadata": {},
   "outputs": [],
   "source": []
  }
 ],
 "metadata": {
  "kernelspec": {
   "display_name": "Python 3",
   "language": "python",
   "name": "python3"
  },
  "language_info": {
   "codemirror_mode": {
    "name": "ipython",
    "version": 3
   },
   "file_extension": ".py",
   "mimetype": "text/x-python",
   "name": "python",
   "nbconvert_exporter": "python",
   "pygments_lexer": "ipython3",
   "version": "3.9.12"
  }
 },
 "nbformat": 4,
 "nbformat_minor": 2
}
